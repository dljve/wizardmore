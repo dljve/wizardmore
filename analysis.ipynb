{
 "cells": [
  {
   "cell_type": "code",
   "execution_count": 163,
   "id": "018329ef-476e-4bc0-ab63-b2752bfea974",
   "metadata": {},
   "outputs": [],
   "source": [
    "import numpy as np\n",
    "import pandas as pd\n",
    "import json"
   ]
  },
  {
   "cell_type": "code",
   "execution_count": 164,
   "id": "35b20b5b-4fb5-4d5a-a4b3-cac90142c285",
   "metadata": {},
   "outputs": [
    {
     "data": {
      "text/html": [
       "<div>\n",
       "<style scoped>\n",
       "    .dataframe tbody tr th:only-of-type {\n",
       "        vertical-align: middle;\n",
       "    }\n",
       "\n",
       "    .dataframe tbody tr th {\n",
       "        vertical-align: top;\n",
       "    }\n",
       "\n",
       "    .dataframe thead th {\n",
       "        text-align: right;\n",
       "    }\n",
       "</style>\n",
       "<table border=\"1\" class=\"dataframe\">\n",
       "  <thead>\n",
       "    <tr style=\"text-align: right;\">\n",
       "      <th></th>\n",
       "      <th>Question1</th>\n",
       "      <th>Question2</th>\n",
       "      <th>Question3</th>\n",
       "      <th>Question4</th>\n",
       "      <th>Question5</th>\n",
       "      <th>Question6</th>\n",
       "      <th>Question7</th>\n",
       "      <th>Question8</th>\n",
       "      <th>House</th>\n",
       "    </tr>\n",
       "  </thead>\n",
       "  <tbody>\n",
       "    <tr>\n",
       "      <th>0</th>\n",
       "      <td>Forest</td>\n",
       "      <td>First student records going back 1000 years. T...</td>\n",
       "      <td>White cat</td>\n",
       "      <td>The sea</td>\n",
       "      <td>The Good</td>\n",
       "      <td>The power to change your appearance at will</td>\n",
       "      <td>Standing on top of something very high and rea...</td>\n",
       "      <td>Left</td>\n",
       "      <td>Ravenclaw</td>\n",
       "    </tr>\n",
       "    <tr>\n",
       "      <th>1</th>\n",
       "      <td>Dawn</td>\n",
       "      <td>The power to speak to animals</td>\n",
       "      <td>Agree, and ask whether they'd like a free samp...</td>\n",
       "      <td>Home</td>\n",
       "      <td>Tawny owl</td>\n",
       "      <td>The Great</td>\n",
       "      <td>Cold</td>\n",
       "      <td>Right</td>\n",
       "      <td>Hufflepuff</td>\n",
       "    </tr>\n",
       "    <tr>\n",
       "      <th>2</th>\n",
       "      <td>River</td>\n",
       "      <td>The bubbling pool, in the depths of which some...</td>\n",
       "      <td>Brown owl</td>\n",
       "      <td>The power to speak to animals</td>\n",
       "      <td>Ask what makes them think so?</td>\n",
       "      <td>The Good</td>\n",
       "      <td>First, student records going back 1000 years. ...</td>\n",
       "      <td>Right</td>\n",
       "      <td>Hufflepuff</td>\n",
       "    </tr>\n",
       "    <tr>\n",
       "      <th>3</th>\n",
       "      <td>Moon</td>\n",
       "      <td>Ginger cat</td>\n",
       "      <td>The twisting, leaf-strewn path through woods</td>\n",
       "      <td>The sea</td>\n",
       "      <td>The Bold</td>\n",
       "      <td>Secrets about the castle</td>\n",
       "      <td>First student records going back 1000 years. T...</td>\n",
       "      <td>Black</td>\n",
       "      <td>Gryffindor</td>\n",
       "    </tr>\n",
       "    <tr>\n",
       "      <th>4</th>\n",
       "      <td>Forest</td>\n",
       "      <td>Black cat</td>\n",
       "      <td>The twisting, leaf-strewn path through woods</td>\n",
       "      <td>The Good</td>\n",
       "      <td>The sea</td>\n",
       "      <td>First, a mysterious handwritten book full of s...</td>\n",
       "      <td>The power of superhuman strength</td>\n",
       "      <td>Left</td>\n",
       "      <td>Slytherin</td>\n",
       "    </tr>\n",
       "  </tbody>\n",
       "</table>\n",
       "</div>"
      ],
      "text/plain": [
       "  Question1                                          Question2  \\\n",
       "0    Forest  First student records going back 1000 years. T...   \n",
       "1      Dawn                      The power to speak to animals   \n",
       "2     River  The bubbling pool, in the depths of which some...   \n",
       "3      Moon                                         Ginger cat   \n",
       "4    Forest                                          Black cat   \n",
       "\n",
       "                                           Question3  \\\n",
       "0                                          White cat   \n",
       "1  Agree, and ask whether they'd like a free samp...   \n",
       "2                                          Brown owl   \n",
       "3       The twisting, leaf-strewn path through woods   \n",
       "4       The twisting, leaf-strewn path through woods   \n",
       "\n",
       "                       Question4                      Question5  \\\n",
       "0                        The sea                       The Good   \n",
       "1                           Home                      Tawny owl   \n",
       "2  The power to speak to animals  Ask what makes them think so?   \n",
       "3                        The sea                       The Bold   \n",
       "4                       The Good                        The sea   \n",
       "\n",
       "                                           Question6  \\\n",
       "0        The power to change your appearance at will   \n",
       "1                                          The Great   \n",
       "2                                           The Good   \n",
       "3                           Secrets about the castle   \n",
       "4  First, a mysterious handwritten book full of s...   \n",
       "\n",
       "                                           Question7 Question8       House  \n",
       "0  Standing on top of something very high and rea...      Left   Ravenclaw  \n",
       "1                                               Cold     Right  Hufflepuff  \n",
       "2  First, student records going back 1000 years. ...     Right  Hufflepuff  \n",
       "3  First student records going back 1000 years. T...     Black  Gryffindor  \n",
       "4                   The power of superhuman strength      Left   Slytherin  "
      ]
     },
     "execution_count": 164,
     "metadata": {},
     "output_type": "execute_result"
    }
   ],
   "source": [
    "df = pd.read_csv(\"data.csv\", sep=';')\n",
    "df.head()"
   ]
  },
  {
   "cell_type": "code",
   "execution_count": 165,
   "id": "672690f0-db07-4212-924e-4256e2c7d431",
   "metadata": {},
   "outputs": [],
   "source": [
    "sortinghat = json.load(open(\"sortinghat.json\", \"r\", encoding=\"utf8\"))"
   ]
  },
  {
   "cell_type": "code",
   "execution_count": 187,
   "id": "141dc288-9769-489e-af69-b62063272167",
   "metadata": {},
   "outputs": [],
   "source": [
    "answers = {}\n",
    "i = 0\n",
    "for theme in sortinghat:\n",
    "    for answer in theme['answers']:\n",
    "        answers[answer['answer']] = i\n",
    "        i += 1\n",
    "answers[\"Gryffindor\"] = 124\n",
    "answers[\"Ravenclaw\"] = 125\n",
    "answers[\"Hufflepuff\"] = 126\n",
    "answers[\"Slytherin\"] = 127"
   ]
  },
  {
   "cell_type": "code",
   "execution_count": 188,
   "id": "3a791869-8607-4600-b037-985d8d0ab6d9",
   "metadata": {},
   "outputs": [],
   "source": [
    "D = np.zeros((10000, 128))"
   ]
  },
  {
   "cell_type": "code",
   "execution_count": 189,
   "id": "0c69e8f0-67c7-4994-9d14-6fae7a8e5c5b",
   "metadata": {},
   "outputs": [],
   "source": [
    "for index, row in df.iterrows():\n",
    "    for _, q in list(row.items()):\n",
    "        D[index, answers[q]] = 1"
   ]
  },
  {
   "cell_type": "code",
   "execution_count": 190,
   "id": "31551c7b-4a82-4154-90c7-ed27c8264eb6",
   "metadata": {},
   "outputs": [],
   "source": [
    "a = 100\n",
    "b = 0\n",
    "e = a/4\n",
    "d = a/2\n",
    "\n",
    "aabb = np.asarray([a, a, b, b])\n",
    "abab = np.asarray([a, b, a, b])\n",
    "abba = np.asarray([a, b, b, a])\n",
    "baab = np.asarray([b, a, a, b])\n",
    "baba = np.asarray([b, a, b, a])\n",
    "bbaa = np.asarray([b, b, a, a])\n",
    "abbb = np.asarray([a, b, b, b])\n",
    "babb = np.asarray([b, a, b, b])\n",
    "bbab = np.asarray([b, b, a, b])\n",
    "bbba = np.asarray([b, b, b, a])\n",
    "\n",
    "ebba = np.asarray([e, b, b, a])\n",
    "eabb = np.asarray([e, a, b, b])\n",
    "ebab = np.asarray([e, b, a, b])\n",
    "bbba = np.asarray([b, b, b, a])\n",
    "\n",
    "abdb = np.asarray([a, b, d, b])\n",
    "abbd = np.asarray([a, b, b, d])\n",
    "bbad = np.asarray([b, b, a, d])\n",
    "dbba = np.asarray([d, b, b, a])\n",
    "dabb = np.asarray([d, a, b, b])\n",
    "babd = np.asarray([b, a, b, d])\n",
    "\n",
    "eddb = np.asarray([e, d, d, b])\n",
    "\n",
    "dbbd = np.asarray([d, b, b, d])\n",
    "dbdb = np.asarray([d, b, d, b])\n",
    "\n",
    "W = np.array([ \n",
    "    aabb, bbaa,\n",
    "    aabb, bbaa,\n",
    "    baba, abab,\n",
    "    bbab, bbba, babb, abbb,\n",
    "    babb, bbab, bbba, abbb,\n",
    "    abbb, bbba, babb, bbab,\n",
    "    bbab, abbb, babb, bbba,\n",
    "    baab, bbaa, abab, abba, baba,\n",
    "    babb, bbab, bbba, abbb,\n",
    "    babb, bbab, abbb, bbba,\n",
    "    bbba, bbab, babb, abbb,\n",
    "    bbba, babb, abbb, bbab,\n",
    "    bbab, abbb, babb, bbba,\n",
    "    babb, bbab, bbba, abbb,\n",
    "    babb, bbba, abbb, bbab,\n",
    "    babb, abbb, bbab, bbba,\n",
    "    dbbd, ebba, ebba, ebba, ebba, eabb, eabb, eabb, eddb, eabb, ebab, ebab, dbdb, ebab, eddb,\n",
    "    bbab, abbb, babb, bbba,\n",
    "    baba, abdb, bbad, baab, dbba, dabb,\n",
    "    bbab, bbba, abbb, babb,\n",
    "    bbab, abbb, bbba, babb,\n",
    "    abba, babb, abab, bbba, bbab, abbb, babb,\n",
    "    aabb, babd, bbaa, aabb, bbba, abab, bbaa,\n",
    "    abab, bbba, babb, abbb, bbab, baba,\n",
    "    baba, babb, abab, abbd, bbab, bbba,\n",
    "    abba, baab,\n",
    "    baab, abba,\n",
    "    baba, abab\n",
    "               ])"
   ]
  },
  {
   "cell_type": "code",
   "execution_count": 270,
   "id": "e2150ec6-d513-415e-aeca-73ee44718bb3",
   "metadata": {},
   "outputs": [],
   "source": [
    "X, y = D[:,:124], D[:,124:]"
   ]
  },
  {
   "cell_type": "code",
   "execution_count": 271,
   "id": "4d13bf48-669e-4cbc-ba07-09a024a88957",
   "metadata": {},
   "outputs": [],
   "source": [
    "b = np.asarray([3, 1, 2, 0])"
   ]
  },
  {
   "cell_type": "code",
   "execution_count": 272,
   "id": "8ff70920-9a7b-47ff-b63e-bc04ab3873fc",
   "metadata": {},
   "outputs": [],
   "source": [
    "y_pred = np.argmax((X @ W + b), 1)"
   ]
  },
  {
   "cell_type": "code",
   "execution_count": 273,
   "id": "46f9e63d-ceb9-4a1b-8146-f37b1d2e6d59",
   "metadata": {},
   "outputs": [
    {
     "data": {
      "text/plain": [
       "1.0"
      ]
     },
     "execution_count": 273,
     "metadata": {},
     "output_type": "execute_result"
    }
   ],
   "source": [
    "(y_pred == np.argmax(y, 1)).mean()"
   ]
  },
  {
   "cell_type": "code",
   "execution_count": null,
   "id": "a885ba7e-f743-412d-b1e9-5e7a1eef3325",
   "metadata": {},
   "outputs": [],
   "source": []
  }
 ],
 "metadata": {
  "kernelspec": {
   "display_name": "Python 3 (ipykernel)",
   "language": "python",
   "name": "python3"
  },
  "language_info": {
   "codemirror_mode": {
    "name": "ipython",
    "version": 3
   },
   "file_extension": ".py",
   "mimetype": "text/x-python",
   "name": "python",
   "nbconvert_exporter": "python",
   "pygments_lexer": "ipython3",
   "version": "3.10.9"
  }
 },
 "nbformat": 4,
 "nbformat_minor": 5
}
